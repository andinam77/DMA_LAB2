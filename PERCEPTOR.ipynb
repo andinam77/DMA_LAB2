{
  "nbformat": 4,
  "nbformat_minor": 0,
  "metadata": {
    "colab": {
      "name": "Untitled2.ipynb",
      "provenance": [],
      "authorship_tag": "ABX9TyOk1YGY8Jw59HWTlQMVgO2Q",
      "include_colab_link": true
    },
    "kernelspec": {
      "name": "python3",
      "display_name": "Python 3"
    },
    "language_info": {
      "name": "python"
    }
  },
  "cells": [
    {
      "cell_type": "markdown",
      "metadata": {
        "id": "view-in-github",
        "colab_type": "text"
      },
      "source": [
        "<a href=\"https://colab.research.google.com/github/andinam77/DMA_LAB2/blob/master/PERCEPTOR.ipynb\" target=\"_parent\"><img src=\"https://colab.research.google.com/assets/colab-badge.svg\" alt=\"Open In Colab\"/></a>"
      ]
    },
    {
      "cell_type": "code",
      "execution_count": 1,
      "metadata": {
        "id": "7OiO9-oExM2r"
      },
      "outputs": [],
      "source": [
        "from sklearn import preprocessing\n",
        "import numpy as np\n",
        "import scipy.linalg.blas as FB\n",
        "import math \n",
        "import pandas as pd\n",
        "\n",
        "import numba as nb\n",
        "from tqdm import tqdm\n",
        "\n",
        "\n",
        "from numpy.linalg import multi_dot\n",
        "super_dot = lambda v, w: FB.dgemm(alpha=1., a=v.T, b=w.T, trans_b=True)"
      ]
    },
    {
      "cell_type": "code",
      "source": [
        "#@nb.vectorize([nb.float32(nb.int32, nb.int32, nb.int32, nb.float32, nb.float32, nb.float32)])\n",
        "@nb.jit #(nopython=True)\n",
        "def RBF_kernel(q1, q2,tr,sigma,TR,TEt):\n",
        "    \n",
        "    '''\n",
        "    TEt=TE\n",
        "    sigma=0.01\n",
        "    q1=686\n",
        "    q2=1500\n",
        "    tr=1\n",
        "    '''\n",
        "    #global XX\n",
        "    #global XXt\n",
        "    \n",
        "    #XXt==np.array(XXt.drop('index',axis=1))\n",
        "    #XX=np.array(XX.drop('index',axis=1))\n",
        "    #XXt==np.array(XXt)\n",
        "    #XX=np.array(XX)\n",
        "            \n",
        "    if tr == 1:\n",
        "\n",
        "        #s0= sum([XX[q1][i]*XX[q2][i] for i in range(len(XX[q1]))])\n",
        "        \n",
        "        s0=np.dot(np.asarray(TR[q1], order='C'),np.asarray(TR[q2], order='C'))\n",
        "        #s0=np.dot(XX[q1], XX[q2])\n",
        "        #s0 = multi_dot(XX[1].T, XX[3])\n",
        "        s1 = s0 * -2\n",
        "        dot11 = np.dot(np.asarray(TR[q1], order='C'),np.asarray(TR[q1], order='C'))\n",
        "        #dot11=np.dot(XX[q1],XX[q1])\n",
        "        #dot11=sum([XX[q1][i]*XX[q1][i] for i in range(len(XX[q1]))])\n",
        "        dot22 = np.dot(np.asarray(TR[q2], order='C'), np.asarray(TR[q2], order='C'))\n",
        "        #dot22=np.dot(XX[q2], XX[q2])\n",
        "        #dot22=sum([XX[q2][i]*XX[q2][i] for i in range(len(XX[q1]))])\n",
        "        \n",
        "    \n",
        "       \n",
        "    else:\n",
        "\n",
        "        #s0= sum([XX[q1][i]*XXt[q2][i] for i in range(len(TEt[q1]))])\n",
        "        s0 = np.dot(np.asarray(TR[q1], order='C'), np.asarray(TEt[q2], order='C'))\n",
        "        s1 = s0 * -2\n",
        "        dot11 =np.dot(np.asarray(TR[q1], order='C'), np.asarray(TR[q1], order='C'))\n",
        "        #dot11=sum([XX[q1][i]*XX[q1][i] for i in range(len(XX[q1]))])\n",
        "\n",
        "        dot22 = np.dot(np.asarray(TEt[q2], order='C'), np.asarray(TEt[q2], order='C'))\n",
        "        #dot22=sum([XXt[q2][i]*XXt[q2][i] for i in range(len(XXt[q1]))])\n",
        "  \n",
        "    s1 = s1 + dot11 + dot22\n",
        "    if (-s1 / sigma) <100:\n",
        "        RBF_kernel_ = math.exp(-s1 / sigma) \n",
        "    else:\n",
        "        RBF_kernel_ = -999999\n",
        "         \n",
        "    #print(RBF_kernel_,' q1 q2 ',s0,' 2*q1 y q2 ',s1,'q1 q1  ',dot11,'  q2 q2 ', dot22)\n",
        "           \n",
        "        \n",
        "    return RBF_kernel_"
      ],
      "metadata": {
        "id": "9VRsvjfHxxa0"
      },
      "execution_count": 2,
      "outputs": []
    },
    {
      "cell_type": "code",
      "source": [
        ""
      ],
      "metadata": {
        "id": "U8LItDU1yKwV"
      },
      "execution_count": null,
      "outputs": []
    }
  ]
}